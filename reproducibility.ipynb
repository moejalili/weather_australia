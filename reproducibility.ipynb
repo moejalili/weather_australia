{
 "cells": [
  {
   "cell_type": "code",
   "execution_count": 51,
   "metadata": {},
   "outputs": [],
   "source": [
    "import pandas as pd\n",
    "import matplotlib.pyplot as plt\n",
    "import ipywidgets as widgets\n",
    "from IPython.core.display import display\n",
    "\n",
    "%matplotlib inline"
   ]
  },
  {
   "cell_type": "markdown",
   "metadata": {},
   "source": [
    "### This table represents the average monthly precipitation for the four largest cities of Australia"
   ]
  },
  {
   "cell_type": "code",
   "execution_count": 52,
   "metadata": {},
   "outputs": [
    {
     "data": {
      "text/html": [
       "<div>\n",
       "<style scoped>\n",
       "    .dataframe tbody tr th:only-of-type {\n",
       "        vertical-align: middle;\n",
       "    }\n",
       "\n",
       "    .dataframe tbody tr th {\n",
       "        vertical-align: top;\n",
       "    }\n",
       "\n",
       "    .dataframe thead th {\n",
       "        text-align: right;\n",
       "    }\n",
       "</style>\n",
       "<table border=\"1\" class=\"dataframe\">\n",
       "  <thead>\n",
       "    <tr style=\"text-align: right;\">\n",
       "      <th></th>\n",
       "      <th>Unnamed: 0</th>\n",
       "      <th>city</th>\n",
       "      <th>precip</th>\n",
       "      <th>jan</th>\n",
       "      <th>feb</th>\n",
       "      <th>mar</th>\n",
       "      <th>apr</th>\n",
       "      <th>may</th>\n",
       "      <th>jun</th>\n",
       "      <th>jul</th>\n",
       "      <th>aug</th>\n",
       "      <th>sep</th>\n",
       "      <th>oct</th>\n",
       "      <th>nov</th>\n",
       "      <th>dec</th>\n",
       "    </tr>\n",
       "  </thead>\n",
       "  <tbody>\n",
       "    <tr>\n",
       "      <th>0</th>\n",
       "      <td>0</td>\n",
       "      <td>Brisbane</td>\n",
       "      <td>rain</td>\n",
       "      <td>3.98</td>\n",
       "      <td>4.39</td>\n",
       "      <td>5.16</td>\n",
       "      <td>5.5</td>\n",
       "      <td>5.25</td>\n",
       "      <td>3.63</td>\n",
       "      <td>4.59</td>\n",
       "      <td>2.88</td>\n",
       "      <td>3.98</td>\n",
       "      <td>5.94</td>\n",
       "      <td>3.09</td>\n",
       "      <td>5.74</td>\n",
       "    </tr>\n",
       "    <tr>\n",
       "      <th>1</th>\n",
       "      <td>1</td>\n",
       "      <td>Brisbane</td>\n",
       "      <td>snow</td>\n",
       "      <td>0.00</td>\n",
       "      <td>0.00</td>\n",
       "      <td>0.00</td>\n",
       "      <td>0.0</td>\n",
       "      <td>0.00</td>\n",
       "      <td>0.00</td>\n",
       "      <td>0.50</td>\n",
       "      <td>0.57</td>\n",
       "      <td>0.00</td>\n",
       "      <td>0.00</td>\n",
       "      <td>0.00</td>\n",
       "      <td>0.00</td>\n",
       "    </tr>\n",
       "    <tr>\n",
       "      <th>2</th>\n",
       "      <td>2</td>\n",
       "      <td>Sydney</td>\n",
       "      <td>rain</td>\n",
       "      <td>3.75</td>\n",
       "      <td>4.39</td>\n",
       "      <td>3.20</td>\n",
       "      <td>5.5</td>\n",
       "      <td>5.30</td>\n",
       "      <td>3.63</td>\n",
       "      <td>4.59</td>\n",
       "      <td>3.50</td>\n",
       "      <td>3.98</td>\n",
       "      <td>3.30</td>\n",
       "      <td>3.10</td>\n",
       "      <td>4.70</td>\n",
       "    </tr>\n",
       "    <tr>\n",
       "      <th>3</th>\n",
       "      <td>3</td>\n",
       "      <td>Sydney</td>\n",
       "      <td>snow</td>\n",
       "      <td>0.00</td>\n",
       "      <td>1.10</td>\n",
       "      <td>2.10</td>\n",
       "      <td>1.4</td>\n",
       "      <td>0.00</td>\n",
       "      <td>0.00</td>\n",
       "      <td>0.00</td>\n",
       "      <td>0.00</td>\n",
       "      <td>0.00</td>\n",
       "      <td>0.00</td>\n",
       "      <td>0.00</td>\n",
       "      <td>0.00</td>\n",
       "    </tr>\n",
       "    <tr>\n",
       "      <th>4</th>\n",
       "      <td>4</td>\n",
       "      <td>Melbourne</td>\n",
       "      <td>rain</td>\n",
       "      <td>4.91</td>\n",
       "      <td>1.30</td>\n",
       "      <td>5.16</td>\n",
       "      <td>3.4</td>\n",
       "      <td>5.60</td>\n",
       "      <td>4.50</td>\n",
       "      <td>4.59</td>\n",
       "      <td>2.10</td>\n",
       "      <td>5.40</td>\n",
       "      <td>1.20</td>\n",
       "      <td>4.50</td>\n",
       "      <td>5.50</td>\n",
       "    </tr>\n",
       "    <tr>\n",
       "      <th>5</th>\n",
       "      <td>5</td>\n",
       "      <td>Melbourne</td>\n",
       "      <td>snow</td>\n",
       "      <td>0.00</td>\n",
       "      <td>0.00</td>\n",
       "      <td>0.00</td>\n",
       "      <td>0.0</td>\n",
       "      <td>0.00</td>\n",
       "      <td>1.30</td>\n",
       "      <td>2.30</td>\n",
       "      <td>1.60</td>\n",
       "      <td>1.10</td>\n",
       "      <td>0.00</td>\n",
       "      <td>0.00</td>\n",
       "      <td>0.00</td>\n",
       "    </tr>\n",
       "    <tr>\n",
       "      <th>6</th>\n",
       "      <td>6</td>\n",
       "      <td>Hobart</td>\n",
       "      <td>rain</td>\n",
       "      <td>4.91</td>\n",
       "      <td>4.84</td>\n",
       "      <td>3.99</td>\n",
       "      <td>4.1</td>\n",
       "      <td>4.05</td>\n",
       "      <td>4.91</td>\n",
       "      <td>3.48</td>\n",
       "      <td>4.04</td>\n",
       "      <td>3.28</td>\n",
       "      <td>5.00</td>\n",
       "      <td>3.09</td>\n",
       "      <td>4.90</td>\n",
       "    </tr>\n",
       "    <tr>\n",
       "      <th>7</th>\n",
       "      <td>7</td>\n",
       "      <td>Hobart</td>\n",
       "      <td>snow</td>\n",
       "      <td>1.20</td>\n",
       "      <td>1.10</td>\n",
       "      <td>0.20</td>\n",
       "      <td>0.3</td>\n",
       "      <td>0.50</td>\n",
       "      <td>1.50</td>\n",
       "      <td>2.10</td>\n",
       "      <td>2.30</td>\n",
       "      <td>1.40</td>\n",
       "      <td>1.60</td>\n",
       "      <td>0.00</td>\n",
       "      <td>0.00</td>\n",
       "    </tr>\n",
       "  </tbody>\n",
       "</table>\n",
       "</div>"
      ],
      "text/plain": [
       "   Unnamed: 0       city precip   jan   feb   mar  apr   may   jun   jul  \\\n",
       "0           0   Brisbane   rain  3.98  4.39  5.16  5.5  5.25  3.63  4.59   \n",
       "1           1   Brisbane   snow  0.00  0.00  0.00  0.0  0.00  0.00  0.50   \n",
       "2           2     Sydney   rain  3.75  4.39  3.20  5.5  5.30  3.63  4.59   \n",
       "3           3     Sydney   snow  0.00  1.10  2.10  1.4  0.00  0.00  0.00   \n",
       "4           4  Melbourne   rain  4.91  1.30  5.16  3.4  5.60  4.50  4.59   \n",
       "5           5  Melbourne   snow  0.00  0.00  0.00  0.0  0.00  1.30  2.30   \n",
       "6           6     Hobart   rain  4.91  4.84  3.99  4.1  4.05  4.91  3.48   \n",
       "7           7     Hobart   snow  1.20  1.10  0.20  0.3  0.50  1.50  2.10   \n",
       "\n",
       "    aug   sep   oct   nov   dec  \n",
       "0  2.88  3.98  5.94  3.09  5.74  \n",
       "1  0.57  0.00  0.00  0.00  0.00  \n",
       "2  3.50  3.98  3.30  3.10  4.70  \n",
       "3  0.00  0.00  0.00  0.00  0.00  \n",
       "4  2.10  5.40  1.20  4.50  5.50  \n",
       "5  1.60  1.10  0.00  0.00  0.00  \n",
       "6  4.04  3.28  5.00  3.09  4.90  \n",
       "7  2.30  1.40  1.60  0.00  0.00  "
      ]
     },
     "execution_count": 52,
     "metadata": {},
     "output_type": "execute_result"
    }
   ],
   "source": [
    "weather = pd.read_csv('weather.csv')\n",
    "weather"
   ]
  },
  {
   "cell_type": "markdown",
   "metadata": {},
   "source": [
    "### Average monthly rainfall by city"
   ]
  },
  {
   "cell_type": "code",
   "execution_count": 53,
   "metadata": {},
   "outputs": [
    {
     "data": {
      "image/png": "[encoded data removed]",
      "text/plain": [
       "<Figure size 432x288 with 1 Axes>"
      ]
     },
     "metadata": {
      "needs_background": "light"
     },
     "output_type": "display_data"
    },
    {
     "data": {
      "image/png": "[encoded data removed]",
      "text/plain": [
       "<Figure size 432x288 with 1 Axes>"
      ]
     },
     "metadata": {
      "needs_background": "light"
     },
     "output_type": "display_data"
    },
    {
     "data": {
      "image/png": "[encoded data removed]",
      "text/plain": [
       "<Figure size 432x288 with 1 Axes>"
      ]
     },
     "metadata": {
      "needs_background": "light"
     },
     "output_type": "display_data"
    },
    {
     "data": {
      "image/png": "[encoded data removed]",
      "text/plain": [
       "<Figure size 432x288 with 1 Axes>"
      ]
     },
     "metadata": {
      "needs_background": "light"
     },
     "output_type": "display_data"
    }
   ],
   "source": [
    "average_rain = [\n",
    "    weather[(weather.city == city) & (weather.precip == 'rain')][weather.columns[2:]]\n",
    "    for city in weather.city.unique()\n",
    "]\n",
    "\n",
    "for (idx, city) in enumerate(weather.city.unique()):\n",
    "    average_rain[idx].plot.bar(title = city)"
   ]
  },
  {
   "cell_type": "markdown",
   "metadata": {},
   "source": [
    "### Most total rainfall per month"
   ]
  },
  {
   "cell_type": "code",
   "execution_count": 54,
   "metadata": {
    "scrolled": true
   },
   "outputs": [
    {
     "data": {
      "text/html": [
       "<style  type=\"text/css\" >\n",
       "    #T_aaa43fc2_8538_11ea_b844_60f81dc833d0row0_col5 {\n",
       "            background-color:  yellow;\n",
       "        }    #T_aaa43fc2_8538_11ea_b844_60f81dc833d0row0_col6 {\n",
       "            background-color:  yellow;\n",
       "        }    #T_aaa43fc2_8538_11ea_b844_60f81dc833d0row0_col9 {\n",
       "            background-color:  yellow;\n",
       "        }    #T_aaa43fc2_8538_11ea_b844_60f81dc833d0row0_col12 {\n",
       "            background-color:  yellow;\n",
       "        }    #T_aaa43fc2_8538_11ea_b844_60f81dc833d0row0_col14 {\n",
       "            background-color:  yellow;\n",
       "        }    #T_aaa43fc2_8538_11ea_b844_60f81dc833d0row1_col6 {\n",
       "            background-color:  yellow;\n",
       "        }    #T_aaa43fc2_8538_11ea_b844_60f81dc833d0row1_col9 {\n",
       "            background-color:  yellow;\n",
       "        }    #T_aaa43fc2_8538_11ea_b844_60f81dc833d0row2_col3 {\n",
       "            background-color:  yellow;\n",
       "        }    #T_aaa43fc2_8538_11ea_b844_60f81dc833d0row2_col5 {\n",
       "            background-color:  yellow;\n",
       "        }    #T_aaa43fc2_8538_11ea_b844_60f81dc833d0row2_col7 {\n",
       "            background-color:  yellow;\n",
       "        }    #T_aaa43fc2_8538_11ea_b844_60f81dc833d0row2_col9 {\n",
       "            background-color:  yellow;\n",
       "        }    #T_aaa43fc2_8538_11ea_b844_60f81dc833d0row2_col11 {\n",
       "            background-color:  yellow;\n",
       "        }    #T_aaa43fc2_8538_11ea_b844_60f81dc833d0row2_col13 {\n",
       "            background-color:  yellow;\n",
       "        }    #T_aaa43fc2_8538_11ea_b844_60f81dc833d0row3_col0 {\n",
       "            background-color:  yellow;\n",
       "        }    #T_aaa43fc2_8538_11ea_b844_60f81dc833d0row3_col3 {\n",
       "            background-color:  yellow;\n",
       "        }    #T_aaa43fc2_8538_11ea_b844_60f81dc833d0row3_col4 {\n",
       "            background-color:  yellow;\n",
       "        }    #T_aaa43fc2_8538_11ea_b844_60f81dc833d0row3_col8 {\n",
       "            background-color:  yellow;\n",
       "        }    #T_aaa43fc2_8538_11ea_b844_60f81dc833d0row3_col10 {\n",
       "            background-color:  yellow;\n",
       "        }</style><table id=\"T_aaa43fc2_8538_11ea_b844_60f81dc833d0\" ><thead>    <tr>        <th class=\"blank level0\" ></th>        <th class=\"col_heading level0 col0\" >Unnamed: 0</th>        <th class=\"col_heading level0 col1\" >city</th>        <th class=\"col_heading level0 col2\" >precip</th>        <th class=\"col_heading level0 col3\" >jan</th>        <th class=\"col_heading level0 col4\" >feb</th>        <th class=\"col_heading level0 col5\" >mar</th>        <th class=\"col_heading level0 col6\" >apr</th>        <th class=\"col_heading level0 col7\" >may</th>        <th class=\"col_heading level0 col8\" >jun</th>        <th class=\"col_heading level0 col9\" >jul</th>        <th class=\"col_heading level0 col10\" >aug</th>        <th class=\"col_heading level0 col11\" >sep</th>        <th class=\"col_heading level0 col12\" >oct</th>        <th class=\"col_heading level0 col13\" >nov</th>        <th class=\"col_heading level0 col14\" >dec</th>    </tr></thead><tbody>\n",
       "                <tr>\n",
       "                        <th id=\"T_aaa43fc2_8538_11ea_b844_60f81dc833d0level0_row0\" class=\"row_heading level0 row0\" >0</th>\n",
       "                        <td id=\"T_aaa43fc2_8538_11ea_b844_60f81dc833d0row0_col0\" class=\"data row0 col0\" >0</td>\n",
       "                        <td id=\"T_aaa43fc2_8538_11ea_b844_60f81dc833d0row0_col1\" class=\"data row0 col1\" >Brisbane</td>\n",
       "                        <td id=\"T_aaa43fc2_8538_11ea_b844_60f81dc833d0row0_col2\" class=\"data row0 col2\" >rain</td>\n",
       "                        <td id=\"T_aaa43fc2_8538_11ea_b844_60f81dc833d0row0_col3\" class=\"data row0 col3\" >3.980000</td>\n",
       "                        <td id=\"T_aaa43fc2_8538_11ea_b844_60f81dc833d0row0_col4\" class=\"data row0 col4\" >4.390000</td>\n",
       "                        <td id=\"T_aaa43fc2_8538_11ea_b844_60f81dc833d0row0_col5\" class=\"data row0 col5\" >5.160000</td>\n",
       "                        <td id=\"T_aaa43fc2_8538_11ea_b844_60f81dc833d0row0_col6\" class=\"data row0 col6\" >5.500000</td>\n",
       "                        <td id=\"T_aaa43fc2_8538_11ea_b844_60f81dc833d0row0_col7\" class=\"data row0 col7\" >5.250000</td>\n",
       "                        <td id=\"T_aaa43fc2_8538_11ea_b844_60f81dc833d0row0_col8\" class=\"data row0 col8\" >3.630000</td>\n",
       "                        <td id=\"T_aaa43fc2_8538_11ea_b844_60f81dc833d0row0_col9\" class=\"data row0 col9\" >4.590000</td>\n",
       "                        <td id=\"T_aaa43fc2_8538_11ea_b844_60f81dc833d0row0_col10\" class=\"data row0 col10\" >2.880000</td>\n",
       "                        <td id=\"T_aaa43fc2_8538_11ea_b844_60f81dc833d0row0_col11\" class=\"data row0 col11\" >3.980000</td>\n",
       "                        <td id=\"T_aaa43fc2_8538_11ea_b844_60f81dc833d0row0_col12\" class=\"data row0 col12\" >5.940000</td>\n",
       "                        <td id=\"T_aaa43fc2_8538_11ea_b844_60f81dc833d0row0_col13\" class=\"data row0 col13\" >3.090000</td>\n",
       "                        <td id=\"T_aaa43fc2_8538_11ea_b844_60f81dc833d0row0_col14\" class=\"data row0 col14\" >5.740000</td>\n",
       "            </tr>\n",
       "            <tr>\n",
       "                        <th id=\"T_aaa43fc2_8538_11ea_b844_60f81dc833d0level0_row1\" class=\"row_heading level0 row1\" >2</th>\n",
       "                        <td id=\"T_aaa43fc2_8538_11ea_b844_60f81dc833d0row1_col0\" class=\"data row1 col0\" >2</td>\n",
       "                        <td id=\"T_aaa43fc2_8538_11ea_b844_60f81dc833d0row1_col1\" class=\"data row1 col1\" >Sydney</td>\n",
       "                        <td id=\"T_aaa43fc2_8538_11ea_b844_60f81dc833d0row1_col2\" class=\"data row1 col2\" >rain</td>\n",
       "                        <td id=\"T_aaa43fc2_8538_11ea_b844_60f81dc833d0row1_col3\" class=\"data row1 col3\" >3.750000</td>\n",
       "                        <td id=\"T_aaa43fc2_8538_11ea_b844_60f81dc833d0row1_col4\" class=\"data row1 col4\" >4.390000</td>\n",
       "                        <td id=\"T_aaa43fc2_8538_11ea_b844_60f81dc833d0row1_col5\" class=\"data row1 col5\" >3.200000</td>\n",
       "                        <td id=\"T_aaa43fc2_8538_11ea_b844_60f81dc833d0row1_col6\" class=\"data row1 col6\" >5.500000</td>\n",
       "                        <td id=\"T_aaa43fc2_8538_11ea_b844_60f81dc833d0row1_col7\" class=\"data row1 col7\" >5.300000</td>\n",
       "                        <td id=\"T_aaa43fc2_8538_11ea_b844_60f81dc833d0row1_col8\" class=\"data row1 col8\" >3.630000</td>\n",
       "                        <td id=\"T_aaa43fc2_8538_11ea_b844_60f81dc833d0row1_col9\" class=\"data row1 col9\" >4.590000</td>\n",
       "                        <td id=\"T_aaa43fc2_8538_11ea_b844_60f81dc833d0row1_col10\" class=\"data row1 col10\" >3.500000</td>\n",
       "                        <td id=\"T_aaa43fc2_8538_11ea_b844_60f81dc833d0row1_col11\" class=\"data row1 col11\" >3.980000</td>\n",
       "                        <td id=\"T_aaa43fc2_8538_11ea_b844_60f81dc833d0row1_col12\" class=\"data row1 col12\" >3.300000</td>\n",
       "                        <td id=\"T_aaa43fc2_8538_11ea_b844_60f81dc833d0row1_col13\" class=\"data row1 col13\" >3.100000</td>\n",
       "                        <td id=\"T_aaa43fc2_8538_11ea_b844_60f81dc833d0row1_col14\" class=\"data row1 col14\" >4.700000</td>\n",
       "            </tr>\n",
       "            <tr>\n",
       "                        <th id=\"T_aaa43fc2_8538_11ea_b844_60f81dc833d0level0_row2\" class=\"row_heading level0 row2\" >4</th>\n",
       "                        <td id=\"T_aaa43fc2_8538_11ea_b844_60f81dc833d0row2_col0\" class=\"data row2 col0\" >4</td>\n",
       "                        <td id=\"T_aaa43fc2_8538_11ea_b844_60f81dc833d0row2_col1\" class=\"data row2 col1\" >Melbourne</td>\n",
       "                        <td id=\"T_aaa43fc2_8538_11ea_b844_60f81dc833d0row2_col2\" class=\"data row2 col2\" >rain</td>\n",
       "                        <td id=\"T_aaa43fc2_8538_11ea_b844_60f81dc833d0row2_col3\" class=\"data row2 col3\" >4.910000</td>\n",
       "                        <td id=\"T_aaa43fc2_8538_11ea_b844_60f81dc833d0row2_col4\" class=\"data row2 col4\" >1.300000</td>\n",
       "                        <td id=\"T_aaa43fc2_8538_11ea_b844_60f81dc833d0row2_col5\" class=\"data row2 col5\" >5.160000</td>\n",
       "                        <td id=\"T_aaa43fc2_8538_11ea_b844_60f81dc833d0row2_col6\" class=\"data row2 col6\" >3.400000</td>\n",
       "                        <td id=\"T_aaa43fc2_8538_11ea_b844_60f81dc833d0row2_col7\" class=\"data row2 col7\" >5.600000</td>\n",
       "                        <td id=\"T_aaa43fc2_8538_11ea_b844_60f81dc833d0row2_col8\" class=\"data row2 col8\" >4.500000</td>\n",
       "                        <td id=\"T_aaa43fc2_8538_11ea_b844_60f81dc833d0row2_col9\" class=\"data row2 col9\" >4.590000</td>\n",
       "                        <td id=\"T_aaa43fc2_8538_11ea_b844_60f81dc833d0row2_col10\" class=\"data row2 col10\" >2.100000</td>\n",
       "                        <td id=\"T_aaa43fc2_8538_11ea_b844_60f81dc833d0row2_col11\" class=\"data row2 col11\" >5.400000</td>\n",
       "                        <td id=\"T_aaa43fc2_8538_11ea_b844_60f81dc833d0row2_col12\" class=\"data row2 col12\" >1.200000</td>\n",
       "                        <td id=\"T_aaa43fc2_8538_11ea_b844_60f81dc833d0row2_col13\" class=\"data row2 col13\" >4.500000</td>\n",
       "                        <td id=\"T_aaa43fc2_8538_11ea_b844_60f81dc833d0row2_col14\" class=\"data row2 col14\" >5.500000</td>\n",
       "            </tr>\n",
       "            <tr>\n",
       "                        <th id=\"T_aaa43fc2_8538_11ea_b844_60f81dc833d0level0_row3\" class=\"row_heading level0 row3\" >6</th>\n",
       "                        <td id=\"T_aaa43fc2_8538_11ea_b844_60f81dc833d0row3_col0\" class=\"data row3 col0\" >6</td>\n",
       "                        <td id=\"T_aaa43fc2_8538_11ea_b844_60f81dc833d0row3_col1\" class=\"data row3 col1\" >Hobart</td>\n",
       "                        <td id=\"T_aaa43fc2_8538_11ea_b844_60f81dc833d0row3_col2\" class=\"data row3 col2\" >rain</td>\n",
       "                        <td id=\"T_aaa43fc2_8538_11ea_b844_60f81dc833d0row3_col3\" class=\"data row3 col3\" >4.910000</td>\n",
       "                        <td id=\"T_aaa43fc2_8538_11ea_b844_60f81dc833d0row3_col4\" class=\"data row3 col4\" >4.840000</td>\n",
       "                        <td id=\"T_aaa43fc2_8538_11ea_b844_60f81dc833d0row3_col5\" class=\"data row3 col5\" >3.990000</td>\n",
       "                        <td id=\"T_aaa43fc2_8538_11ea_b844_60f81dc833d0row3_col6\" class=\"data row3 col6\" >4.100000</td>\n",
       "                        <td id=\"T_aaa43fc2_8538_11ea_b844_60f81dc833d0row3_col7\" class=\"data row3 col7\" >4.050000</td>\n",
       "                        <td id=\"T_aaa43fc2_8538_11ea_b844_60f81dc833d0row3_col8\" class=\"data row3 col8\" >4.910000</td>\n",
       "                        <td id=\"T_aaa43fc2_8538_11ea_b844_60f81dc833d0row3_col9\" class=\"data row3 col9\" >3.480000</td>\n",
       "                        <td id=\"T_aaa43fc2_8538_11ea_b844_60f81dc833d0row3_col10\" class=\"data row3 col10\" >4.040000</td>\n",
       "                        <td id=\"T_aaa43fc2_8538_11ea_b844_60f81dc833d0row3_col11\" class=\"data row3 col11\" >3.280000</td>\n",
       "                        <td id=\"T_aaa43fc2_8538_11ea_b844_60f81dc833d0row3_col12\" class=\"data row3 col12\" >5.000000</td>\n",
       "                        <td id=\"T_aaa43fc2_8538_11ea_b844_60f81dc833d0row3_col13\" class=\"data row3 col13\" >3.090000</td>\n",
       "                        <td id=\"T_aaa43fc2_8538_11ea_b844_60f81dc833d0row3_col14\" class=\"data row3 col14\" >4.900000</td>\n",
       "            </tr>\n",
       "    </tbody></table>"
      ],
      "text/plain": [
       "<pandas.io.formats.style.Styler at 0x12e1ce310>"
      ]
     },
     "execution_count": 54,
     "metadata": {},
     "output_type": "execute_result"
    }
   ],
   "source": [
    "weather[weather.precip == 'rain'].style.highlight_max()"
   ]
  },
  {
   "cell_type": "markdown",
   "metadata": {},
   "source": [
    "### Months receiving snowfall"
   ]
  },
  {
   "cell_type": "code",
   "execution_count": 55,
   "metadata": {},
   "outputs": [],
   "source": [
    "def highlight_snow(snow):\n",
    "    return 'color: {0}'.format('black' if snow == 0.0 else 'blue')"
   ]
  },
  {
   "cell_type": "code",
   "execution_count": 56,
   "metadata": {},
   "outputs": [
    {
     "data": {
      "text/html": [
       "<style  type=\"text/css\" >\n",
       "</style><table id=\"T_aaab5aaa_8538_11ea_b844_60f81dc833d0\" ><thead>    <tr>        <th class=\"blank level0\" ></th>        <th class=\"col_heading level0 col0\" >Unnamed: 0</th>        <th class=\"col_heading level0 col1\" >city</th>        <th class=\"col_heading level0 col2\" >precip</th>        <th class=\"col_heading level0 col3\" >jan</th>        <th class=\"col_heading level0 col4\" >feb</th>        <th class=\"col_heading level0 col5\" >mar</th>        <th class=\"col_heading level0 col6\" >apr</th>        <th class=\"col_heading level0 col7\" >may</th>        <th class=\"col_heading level0 col8\" >jun</th>        <th class=\"col_heading level0 col9\" >jul</th>        <th class=\"col_heading level0 col10\" >aug</th>        <th class=\"col_heading level0 col11\" >sep</th>        <th class=\"col_heading level0 col12\" >oct</th>        <th class=\"col_heading level0 col13\" >nov</th>        <th class=\"col_heading level0 col14\" >dec</th>    </tr></thead><tbody>\n",
       "                <tr>\n",
       "                        <th id=\"T_aaab5aaa_8538_11ea_b844_60f81dc833d0level0_row0\" class=\"row_heading level0 row0\" >1</th>\n",
       "                        <td id=\"T_aaab5aaa_8538_11ea_b844_60f81dc833d0row0_col0\" class=\"data row0 col0\" >1</td>\n",
       "                        <td id=\"T_aaab5aaa_8538_11ea_b844_60f81dc833d0row0_col1\" class=\"data row0 col1\" >Brisbane</td>\n",
       "                        <td id=\"T_aaab5aaa_8538_11ea_b844_60f81dc833d0row0_col2\" class=\"data row0 col2\" >snow</td>\n",
       "                        <td id=\"T_aaab5aaa_8538_11ea_b844_60f81dc833d0row0_col3\" class=\"data row0 col3\" >0.000000</td>\n",
       "                        <td id=\"T_aaab5aaa_8538_11ea_b844_60f81dc833d0row0_col4\" class=\"data row0 col4\" >0.000000</td>\n",
       "                        <td id=\"T_aaab5aaa_8538_11ea_b844_60f81dc833d0row0_col5\" class=\"data row0 col5\" >0.000000</td>\n",
       "                        <td id=\"T_aaab5aaa_8538_11ea_b844_60f81dc833d0row0_col6\" class=\"data row0 col6\" >0.000000</td>\n",
       "                        <td id=\"T_aaab5aaa_8538_11ea_b844_60f81dc833d0row0_col7\" class=\"data row0 col7\" >0.000000</td>\n",
       "                        <td id=\"T_aaab5aaa_8538_11ea_b844_60f81dc833d0row0_col8\" class=\"data row0 col8\" >0.000000</td>\n",
       "                        <td id=\"T_aaab5aaa_8538_11ea_b844_60f81dc833d0row0_col9\" class=\"data row0 col9\" >0.500000</td>\n",
       "                        <td id=\"T_aaab5aaa_8538_11ea_b844_60f81dc833d0row0_col10\" class=\"data row0 col10\" >0.570000</td>\n",
       "                        <td id=\"T_aaab5aaa_8538_11ea_b844_60f81dc833d0row0_col11\" class=\"data row0 col11\" >0.000000</td>\n",
       "                        <td id=\"T_aaab5aaa_8538_11ea_b844_60f81dc833d0row0_col12\" class=\"data row0 col12\" >0.000000</td>\n",
       "                        <td id=\"T_aaab5aaa_8538_11ea_b844_60f81dc833d0row0_col13\" class=\"data row0 col13\" >0.000000</td>\n",
       "                        <td id=\"T_aaab5aaa_8538_11ea_b844_60f81dc833d0row0_col14\" class=\"data row0 col14\" >0.000000</td>\n",
       "            </tr>\n",
       "            <tr>\n",
       "                        <th id=\"T_aaab5aaa_8538_11ea_b844_60f81dc833d0level0_row1\" class=\"row_heading level0 row1\" >3</th>\n",
       "                        <td id=\"T_aaab5aaa_8538_11ea_b844_60f81dc833d0row1_col0\" class=\"data row1 col0\" >3</td>\n",
       "                        <td id=\"T_aaab5aaa_8538_11ea_b844_60f81dc833d0row1_col1\" class=\"data row1 col1\" >Sydney</td>\n",
       "                        <td id=\"T_aaab5aaa_8538_11ea_b844_60f81dc833d0row1_col2\" class=\"data row1 col2\" >snow</td>\n",
       "                        <td id=\"T_aaab5aaa_8538_11ea_b844_60f81dc833d0row1_col3\" class=\"data row1 col3\" >0.000000</td>\n",
       "                        <td id=\"T_aaab5aaa_8538_11ea_b844_60f81dc833d0row1_col4\" class=\"data row1 col4\" >1.100000</td>\n",
       "                        <td id=\"T_aaab5aaa_8538_11ea_b844_60f81dc833d0row1_col5\" class=\"data row1 col5\" >2.100000</td>\n",
       "                        <td id=\"T_aaab5aaa_8538_11ea_b844_60f81dc833d0row1_col6\" class=\"data row1 col6\" >1.400000</td>\n",
       "                        <td id=\"T_aaab5aaa_8538_11ea_b844_60f81dc833d0row1_col7\" class=\"data row1 col7\" >0.000000</td>\n",
       "                        <td id=\"T_aaab5aaa_8538_11ea_b844_60f81dc833d0row1_col8\" class=\"data row1 col8\" >0.000000</td>\n",
       "                        <td id=\"T_aaab5aaa_8538_11ea_b844_60f81dc833d0row1_col9\" class=\"data row1 col9\" >0.000000</td>\n",
       "                        <td id=\"T_aaab5aaa_8538_11ea_b844_60f81dc833d0row1_col10\" class=\"data row1 col10\" >0.000000</td>\n",
       "                        <td id=\"T_aaab5aaa_8538_11ea_b844_60f81dc833d0row1_col11\" class=\"data row1 col11\" >0.000000</td>\n",
       "                        <td id=\"T_aaab5aaa_8538_11ea_b844_60f81dc833d0row1_col12\" class=\"data row1 col12\" >0.000000</td>\n",
       "                        <td id=\"T_aaab5aaa_8538_11ea_b844_60f81dc833d0row1_col13\" class=\"data row1 col13\" >0.000000</td>\n",
       "                        <td id=\"T_aaab5aaa_8538_11ea_b844_60f81dc833d0row1_col14\" class=\"data row1 col14\" >0.000000</td>\n",
       "            </tr>\n",
       "            <tr>\n",
       "                        <th id=\"T_aaab5aaa_8538_11ea_b844_60f81dc833d0level0_row2\" class=\"row_heading level0 row2\" >5</th>\n",
       "                        <td id=\"T_aaab5aaa_8538_11ea_b844_60f81dc833d0row2_col0\" class=\"data row2 col0\" >5</td>\n",
       "                        <td id=\"T_aaab5aaa_8538_11ea_b844_60f81dc833d0row2_col1\" class=\"data row2 col1\" >Melbourne</td>\n",
       "                        <td id=\"T_aaab5aaa_8538_11ea_b844_60f81dc833d0row2_col2\" class=\"data row2 col2\" >snow</td>\n",
       "                        <td id=\"T_aaab5aaa_8538_11ea_b844_60f81dc833d0row2_col3\" class=\"data row2 col3\" >0.000000</td>\n",
       "                        <td id=\"T_aaab5aaa_8538_11ea_b844_60f81dc833d0row2_col4\" class=\"data row2 col4\" >0.000000</td>\n",
       "                        <td id=\"T_aaab5aaa_8538_11ea_b844_60f81dc833d0row2_col5\" class=\"data row2 col5\" >0.000000</td>\n",
       "                        <td id=\"T_aaab5aaa_8538_11ea_b844_60f81dc833d0row2_col6\" class=\"data row2 col6\" >0.000000</td>\n",
       "                        <td id=\"T_aaab5aaa_8538_11ea_b844_60f81dc833d0row2_col7\" class=\"data row2 col7\" >0.000000</td>\n",
       "                        <td id=\"T_aaab5aaa_8538_11ea_b844_60f81dc833d0row2_col8\" class=\"data row2 col8\" >1.300000</td>\n",
       "                        <td id=\"T_aaab5aaa_8538_11ea_b844_60f81dc833d0row2_col9\" class=\"data row2 col9\" >2.300000</td>\n",
       "                        <td id=\"T_aaab5aaa_8538_11ea_b844_60f81dc833d0row2_col10\" class=\"data row2 col10\" >1.600000</td>\n",
       "                        <td id=\"T_aaab5aaa_8538_11ea_b844_60f81dc833d0row2_col11\" class=\"data row2 col11\" >1.100000</td>\n",
       "                        <td id=\"T_aaab5aaa_8538_11ea_b844_60f81dc833d0row2_col12\" class=\"data row2 col12\" >0.000000</td>\n",
       "                        <td id=\"T_aaab5aaa_8538_11ea_b844_60f81dc833d0row2_col13\" class=\"data row2 col13\" >0.000000</td>\n",
       "                        <td id=\"T_aaab5aaa_8538_11ea_b844_60f81dc833d0row2_col14\" class=\"data row2 col14\" >0.000000</td>\n",
       "            </tr>\n",
       "            <tr>\n",
       "                        <th id=\"T_aaab5aaa_8538_11ea_b844_60f81dc833d0level0_row3\" class=\"row_heading level0 row3\" >7</th>\n",
       "                        <td id=\"T_aaab5aaa_8538_11ea_b844_60f81dc833d0row3_col0\" class=\"data row3 col0\" >7</td>\n",
       "                        <td id=\"T_aaab5aaa_8538_11ea_b844_60f81dc833d0row3_col1\" class=\"data row3 col1\" >Hobart</td>\n",
       "                        <td id=\"T_aaab5aaa_8538_11ea_b844_60f81dc833d0row3_col2\" class=\"data row3 col2\" >snow</td>\n",
       "                        <td id=\"T_aaab5aaa_8538_11ea_b844_60f81dc833d0row3_col3\" class=\"data row3 col3\" >1.200000</td>\n",
       "                        <td id=\"T_aaab5aaa_8538_11ea_b844_60f81dc833d0row3_col4\" class=\"data row3 col4\" >1.100000</td>\n",
       "                        <td id=\"T_aaab5aaa_8538_11ea_b844_60f81dc833d0row3_col5\" class=\"data row3 col5\" >0.200000</td>\n",
       "                        <td id=\"T_aaab5aaa_8538_11ea_b844_60f81dc833d0row3_col6\" class=\"data row3 col6\" >0.300000</td>\n",
       "                        <td id=\"T_aaab5aaa_8538_11ea_b844_60f81dc833d0row3_col7\" class=\"data row3 col7\" >0.500000</td>\n",
       "                        <td id=\"T_aaab5aaa_8538_11ea_b844_60f81dc833d0row3_col8\" class=\"data row3 col8\" >1.500000</td>\n",
       "                        <td id=\"T_aaab5aaa_8538_11ea_b844_60f81dc833d0row3_col9\" class=\"data row3 col9\" >2.100000</td>\n",
       "                        <td id=\"T_aaab5aaa_8538_11ea_b844_60f81dc833d0row3_col10\" class=\"data row3 col10\" >2.300000</td>\n",
       "                        <td id=\"T_aaab5aaa_8538_11ea_b844_60f81dc833d0row3_col11\" class=\"data row3 col11\" >1.400000</td>\n",
       "                        <td id=\"T_aaab5aaa_8538_11ea_b844_60f81dc833d0row3_col12\" class=\"data row3 col12\" >1.600000</td>\n",
       "                        <td id=\"T_aaab5aaa_8538_11ea_b844_60f81dc833d0row3_col13\" class=\"data row3 col13\" >0.000000</td>\n",
       "                        <td id=\"T_aaab5aaa_8538_11ea_b844_60f81dc833d0row3_col14\" class=\"data row3 col14\" >0.000000</td>\n",
       "            </tr>\n",
       "    </tbody></table>"
      ],
      "text/plain": [
       "<pandas.io.formats.style.Styler at 0x12e2cdf50>"
      ]
     },
     "execution_count": 56,
     "metadata": {},
     "output_type": "execute_result"
    }
   ],
   "source": [
    "weather[weather.precip == 'snow'].style.applymap(highlight_snow, subset = weather.columns[2:0])"
   ]
  },
  {
   "cell_type": "code",
   "execution_count": 57,
   "metadata": {},
   "outputs": [
    {
     "data": {
      "application/vnd.jupyter.widget-view+json": {
       "model_id": "7344f84cf12b46a292353cfa110d37ba",
       "version_major": 2,
       "version_minor": 0
      },
      "text/plain": [
       "Dropdown(options=('Brisbane', 'Sydney', 'Melbourne', 'Hobart'), value='Brisbane')"
      ]
     },
     "metadata": {},
     "output_type": "display_data"
    }
   ],
   "source": [
    "def query_weather(city):\n",
    "    display(weather[weather.city == city])\n",
    "    \n",
    "def observer(bunch):\n",
    "    query_weather(bunch.new)\n",
    "    \n",
    "dropdown = widgets.Dropdown(options = weather.city.unique())\n",
    "dropdown.observe(observer, names = 'value')\n",
    "display(dropdown)"
   ]
  },
  {
   "cell_type": "markdown",
   "metadata": {},
   "source": [
    "#### See the [Jupyetr Widgets Documentation](https://ipywidgets.readthedocs.io/en/latest/index.html) to setup instructions if you get error in this part (above)"
   ]
  },
  {
   "cell_type": "code",
   "execution_count": null,
   "metadata": {},
   "outputs": [],
   "source": []
  }
 ],
 "metadata": {
  "kernelspec": {
   "display_name": "Python 3",
   "language": "python",
   "name": "python3"
  },
  "language_info": {
   "codemirror_mode": {
    "name": "ipython",
    "version": 3
   },
   "file_extension": ".py",
   "mimetype": "text/x-python",
   "name": "python",
   "nbconvert_exporter": "python",
   "pygments_lexer": "ipython3",
   "version": "3.7.6"
  }
 },
 "nbformat": 4,
 "nbformat_minor": 4
}
